{
 "cells": [
  {
   "cell_type": "code",
   "execution_count": 40,
   "metadata": {
    "collapsed": false
   },
   "outputs": [],
   "source": [
    "V = 430e4     # 房产价格\n",
    "P = V*0.3     # 首付款\n",
    "D = V-P       # 贷款\n",
    "d = 4.9/100   # 贷款利率\n",
    "beta =  d/12  # 贷款月利率\n",
    "N = 360       # 贷款期数\n",
    "\n",
    "F = 1.5/100*V + 1/100*V + (V-100e4)*5.0/100 # 契税(1.5%)+佣金(1%)+增值税(5%)\n",
    "x = D*beta*((1+beta)**N)/((1+beta)**N-1)    # 等额本息月供"
   ]
  },
  {
   "cell_type": "code",
   "execution_count": 60,
   "metadata": {
    "collapsed": false
   },
   "outputs": [],
   "source": [
    "# 第m个月的已付出的钱\n",
    "def payed(m):\n",
    "    return P+F+x*(m-1)\n",
    "\n",
    "# 第m个月还欠银行的钱\n",
    "def owe(m):\n",
    "    return D*(1+beta)**(m-1) - x*((1+beta)**(m-1)-1)/beta\n",
    "\n",
    "# 第m个月的持有成本\n",
    "def cost(m):\n",
    "    return payed(m)+owe(m)"
   ]
  },
  {
   "cell_type": "code",
   "execution_count": 129,
   "metadata": {
    "collapsed": false
   },
   "outputs": [],
   "source": [
    "month = range(1,362)\n",
    "costed = [cost(i)/1e4 for i in month]"
   ]
  },
  {
   "cell_type": "code",
   "execution_count": 130,
   "metadata": {
    "collapsed": false
   },
   "outputs": [
    {
     "data": {
      "text/plain": [
       "<matplotlib.text.Text at 0x108666390>"
      ]
     },
     "execution_count": 130,
     "metadata": {},
     "output_type": "execute_result"
    },
    {
     "data": {
      "image/png": "[encoded data removed]",
      "text/plain": [
       "<matplotlib.figure.Figure at 0x108605190>"
      ]
     },
     "metadata": {},
     "output_type": "display_data"
    }
   ],
   "source": [
    "%matplotlib inline\n",
    "import matplotlib.pyplot as plt\n",
    "fig = plt.figure()\n",
    "ax = fig.add_subplot(1,1,1)\n",
    "ax.plot(month, costed)\n",
    "ax.set_xlabel(u'Month')\n",
    "ax.set_ylabel(u'Money')"
   ]
  },
  {
   "cell_type": "code",
   "execution_count": 139,
   "metadata": {
    "collapsed": true
   },
   "outputs": [],
   "source": [
    "# 房价每年上涨幅度\n",
    "gamma = 6.0/100/12\n",
    "def price(m):\n",
    "    return V*((1+gamma)**m)\n",
    "prc = [price(i)/1e4 for i in month]"
   ]
  },
  {
   "cell_type": "code",
   "execution_count": 140,
   "metadata": {
    "collapsed": false
   },
   "outputs": [
    {
     "data": {
      "text/plain": [
       "<matplotlib.text.Text at 0x108510dd0>"
      ]
     },
     "execution_count": 140,
     "metadata": {},
     "output_type": "execute_result"
    },
    {
     "data": {
      "image/png": "[encoded data removed]",
      "text/plain": [
       "<matplotlib.figure.Figure at 0x1084fefd0>"
      ]
     },
     "metadata": {},
     "output_type": "display_data"
    }
   ],
   "source": [
    "fig = plt.figure()\n",
    "ax = fig.add_subplot(1,1,1)\n",
    "ax.plot(month, prc)\n",
    "ax.set_xlabel(u'Month')\n",
    "ax.set_ylabel(u'Money')"
   ]
  },
  {
   "cell_type": "code",
   "execution_count": 141,
   "metadata": {
    "collapsed": false
   },
   "outputs": [
    {
     "name": "stdout",
     "output_type": "stream",
     "text": [
      "|0|452.95|-20.8|\n",
      "|1|467.59|-8.794|\n",
      "|2|482.02|5.0819|\n",
      "|3|496.20|20.941|\n",
      "|4|510.13|38.904|\n",
      "|5|523.80|59.096|\n",
      "|6|537.20|81.652|\n",
      "|7|550.31|106.71|\n",
      "|8|563.11|134.43|\n",
      "|9|575.59|164.97|\n",
      "|10|587.74|198.50|\n",
      "|11|599.54|235.20|\n",
      "|12|610.97|275.26|\n",
      "|13|622.00|318.88|\n",
      "|14|632.64|366.28|\n",
      "|15|642.84|417.69|\n",
      "|16|652.59|473.34|\n",
      "|17|661.88|533.51|\n",
      "|18|670.66|598.45|\n",
      "|19|678.93|668.46|\n",
      "|20|686.65|743.84|\n",
      "|21|693.80|824.93|\n",
      "|22|700.34|912.06|\n",
      "|23|706.25|1005.5|\n",
      "|24|711.50|1105.9|\n",
      "|25|716.05|1213.4|\n",
      "|26|719.87|1328.6|\n",
      "|27|722.91|1451.9|\n",
      "|28|725.15|1583.8|\n",
      "|29|726.54|1724.9|\n",
      "|30|727.04|1875.6|\n"
     ]
    }
   ],
   "source": [
    "# 每年的持有成本\n",
    "for (m,c,p) in zip(month,costed,prc):\n",
    "    if m % 12 == 1:\n",
    "        print '|'+str(m/12)+'|'+str(c)[:6]+'|'+str(p-c)[:6]+'|'"
   ]
  },
  {
   "cell_type": "code",
   "execution_count": 125,
   "metadata": {
    "collapsed": false
   },
   "outputs": [],
   "source": [
    "# 投资理财收入\n",
    "alpha = 6.0/100/12\n",
    "def manage(m):\n",
    "    return (P+F)*((1+alpha)**m) + x*((1+alpha)**m-1)/alpha\n",
    "fin = [manage(i)/1e4 for i in month]"
   ]
  },
  {
   "cell_type": "code",
   "execution_count": 126,
   "metadata": {
    "collapsed": false
   },
   "outputs": [
    {
     "data": {
      "text/plain": [
       "<matplotlib.text.Text at 0x108643790>"
      ]
     },
     "execution_count": 126,
     "metadata": {},
     "output_type": "execute_result"
    },
    {
     "data": {
      "image/png": "[encoded data removed]",
      "text/plain": [
       "<matplotlib.figure.Figure at 0x108547a10>"
      ]
     },
     "metadata": {},
     "output_type": "display_data"
    }
   ],
   "source": [
    "fig = plt.figure()\n",
    "ax = fig.add_subplot(1,1,1)\n",
    "ax.plot(month, fin)\n",
    "ax.set_xlabel(u'Month')\n",
    "ax.set_ylabel(u'Money')"
   ]
  },
  {
   "cell_type": "code",
   "execution_count": 133,
   "metadata": {
    "collapsed": false
   },
   "outputs": [
    {
     "name": "stdout",
     "output_type": "stream",
     "text": [
      "|0|154.30|2.3572|\n",
      "|1|183.53|12.410|\n",
      "|2|214.55|24.266|\n",
      "|3|247.49|38.035|\n",
      "|4|282.46|53.836|\n",
      "|5|319.59|71.794|\n",
      "|6|359.01|92.042|\n",
      "|7|400.86|114.72|\n",
      "|8|445.29|139.98|\n",
      "|9|492.46|167.98|\n",
      "|10|542.54|198.89|\n",
      "|11|595.70|232.89|\n",
      "|12|652.15|270.16|\n",
      "|13|712.08|310.92|\n",
      "|14|775.71|355.38|\n",
      "|15|843.26|403.76|\n",
      "|16|914.98|456.31|\n",
      "|17|991.12|513.28|\n",
      "|18|1071.9|574.94|\n",
      "|19|1157.7|641.60|\n",
      "|20|1248.8|713.54|\n",
      "|21|1345.6|791.11|\n",
      "|22|1448.3|874.64|\n",
      "|23|1557.3|964.50|\n",
      "|24|1673.1|1061.0|\n",
      "|25|1796.0|1164.8|\n",
      "|26|1926.5|1276.1|\n",
      "|27|2065.0|1395.4|\n",
      "|28|2212.1|1523.4|\n",
      "|29|2368.2|1660.3|\n",
      "|30|2534.0|1806.9|\n"
     ]
    }
   ],
   "source": [
    "# 理财收入\n",
    "for (m,c) in zip(month,fin):\n",
    "    if m % 12 == 1:\n",
    "        print '|'+str(m/12)+'|'+str(c)[:6]+'|'+str(c-payed(m)/1e4)[:6]+'|'"
   ]
  },
  {
   "cell_type": "code",
   "execution_count": null,
   "metadata": {
    "collapsed": true
   },
   "outputs": [],
   "source": []
  }
 ],
 "metadata": {
  "kernelspec": {
   "display_name": "Python 2",
   "language": "python",
   "name": "python2"
  },
  "language_info": {
   "codemirror_mode": {
    "name": "ipython",
    "version": 2
   },
   "file_extension": ".py",
   "mimetype": "text/x-python",
   "name": "python",
   "nbconvert_exporter": "python",
   "pygments_lexer": "ipython2",
   "version": "2.7.10"
  }
 },
 "nbformat": 4,
 "nbformat_minor": 0
}
